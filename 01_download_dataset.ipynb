{
 "cells": [
  {
   "cell_type": "markdown",
   "metadata": {},
   "source": [
    "# Profusion Data Academy Technical Test\n",
    "\n",
    "First, it is necessary to download the [Telecom users dataset](https://www.kaggle.com/radmirzosimov/telecom-users-dataset), which holds data from a telecommunications company. <br>\n",
    "According to the dataset description in Kaggle [[1]](#section_id), the CSV file contains \"information about almost six thousand users, their demographic characteristics, the services they use, the duration of using the operator's services, the method of payment, and the amount of payment\"<br>\n",
    "\n",
    "\n",
    "**Steps to download the dataset**\n",
    "1. Install the Kaggle API to be capable of downloading the [Telecom users dataset](https://www.kaggle.com/radmirzosimov/telecom-users-dataset) through the command line"
   ]
  },
  {
   "cell_type": "code",
   "execution_count": 8,
   "metadata": {},
   "outputs": [
    {
     "name": "stdout",
     "output_type": "stream",
     "text": [
      "Requirement already satisfied: kaggle in c:\\users\\julio\\miniconda3\\envs\\ce802\\lib\\site-packages (1.5.10)\n",
      "Requirement already satisfied: urllib3 in c:\\users\\julio\\miniconda3\\envs\\ce802\\lib\\site-packages (from kaggle) (1.25.11)\n",
      "Requirement already satisfied: requests in c:\\users\\julio\\miniconda3\\envs\\ce802\\lib\\site-packages (from kaggle) (2.24.0)\n",
      "Requirement already satisfied: six>=1.10 in c:\\users\\julio\\miniconda3\\envs\\ce802\\lib\\site-packages (from kaggle) (1.15.0)\n",
      "Requirement already satisfied: certifi in c:\\users\\julio\\miniconda3\\envs\\ce802\\lib\\site-packages (from kaggle) (2020.6.20)\n",
      "Requirement already satisfied: python-slugify in c:\\users\\julio\\miniconda3\\envs\\ce802\\lib\\site-packages (from kaggle) (4.0.1)\n",
      "Requirement already satisfied: python-dateutil in c:\\users\\julio\\miniconda3\\envs\\ce802\\lib\\site-packages (from kaggle) (2.8.1)\n",
      "Requirement already satisfied: tqdm in c:\\users\\julio\\miniconda3\\envs\\ce802\\lib\\site-packages (from kaggle) (4.51.0)\n",
      "Requirement already satisfied: chardet<4,>=3.0.2 in c:\\users\\julio\\miniconda3\\envs\\ce802\\lib\\site-packages (from requests->kaggle) (3.0.4)\n",
      "Requirement already satisfied: idna<3,>=2.5 in c:\\users\\julio\\miniconda3\\envs\\ce802\\lib\\site-packages (from requests->kaggle) (2.10)\n",
      "Requirement already satisfied: text-unidecode>=1.3 in c:\\users\\julio\\miniconda3\\envs\\ce802\\lib\\site-packages (from python-slugify->kaggle) (1.3)\n"
     ]
    }
   ],
   "source": [
    "# Step 1: Install Kaggle API\n",
    "\n",
    "!pip install kaggle  \n",
    "# Install Kaggle API in windows\n",
    "\n",
    "# Uncomment the following 2 lines if you want to install Kaggle API into any Jupyter Notebook Environment\n",
    "#import sys\n",
    "#!{sys.executable} -m pip install kaggle"
   ]
  },
  {
   "cell_type": "markdown",
   "metadata": {},
   "source": [
    "2. Log in to your [Kaggle Account](https://www.kaggle.com/) or create one <br>\n",
    "<img src=\"https://drive.google.com/uc?id=1RimHiXrRcx3UK9TvcEu7Mz9XTW2ESBe1\" width=\"600\" height=\"300\" align=\"left\">\n",
    "\n",
    "<br>\n",
    "<br>\n",
    "<br>\n",
    "<br>\n",
    "<br>\n",
    "<br>\n",
    "<br>\n",
    "<br>\n",
    "<br>\n",
    "<br>\n",
    "<br>\n",
    "<br>\n",
    "<br>\n",
    "<br>\n",
    "<br>\n",
    "<br>\n",
    "<br>\n",
    "\n",
    "2. Create a new API token in Kaggle. <br>\n",
    "<img src=\"https://drive.google.com/uc?id=1wqHXd1Nch85KU4qyjIJMRgP0m3v50YH-\" width=\"900\" height=\"300\" align=\"left\">\n",
    "<br>\n",
    "<br>\n",
    "<br>\n",
    "<br>\n",
    "<br>\n",
    "<br>\n",
    "<br>\n",
    "<br>\n",
    "<br>\n",
    "<br>\n",
    "<br>\n",
    "<br>\n",
    "<br>\n",
    "To use the Kaggle API: <br>\n",
    "&ensp;&ensp;&ensp;1- Sign up for your Kaggle Account.<br>\n",
    "&ensp;&ensp;&ensp;2- Go to the 'Account' tab of your user profile. <br>\n",
    "&ensp;&ensp;&ensp;3- Select 'Create New API Token'. <br> This will trigger the download of a kaggle.json file that contains your API credentials. <br>\n",
    "<br>\n",
    "In Windows, place the kaggle.json file in the location: \"C:\\Users\\Julio\\.kaggle\"\n",
    "<img src=\"https://drive.google.com/uc?id=1avy1m5V7K-5b5odv3fHvUkYU1V_0AEj6\" width=\"710\" height=\"200\" align=\"left\">\n",
    "<br>\n",
    "<br>\n",
    "<br>\n",
    "<br>\n",
    "<br>\n",
    "<br>\n",
    "<br>\n",
    "<br>\n",
    "<br>\n",
    "<br>\n",
    "<br>\n",
    "<br>\n",
    "The kaggle.json file holds the credentials needed to get the access to the dataset from here. "
   ]
  },
  {
   "cell_type": "markdown",
   "metadata": {},
   "source": [
    "4. Download the [Telecom users dataset](https://www.kaggle.com/radmirzosimov/telecom-users-dataset) from Kaggle"
   ]
  },
  {
   "cell_type": "code",
   "execution_count": 11,
   "metadata": {},
   "outputs": [
    {
     "name": "stdout",
     "output_type": "stream",
     "text": [
      "Downloading telecom-users-dataset.zip to C:\\Users\\Julio\\Documents\\RESPALDO\\Tareas\\University of Essex\\Project Dissertation\\Technical Test Profusion\n",
      "\n"
     ]
    },
    {
     "name": "stderr",
     "output_type": "stream",
     "text": [
      "\n",
      "  0%|          | 0.00/165k [00:00<?, ?B/s]\n",
      "100%|##########| 165k/165k [00:00<00:00, 21.1MB/s]\n"
     ]
    }
   ],
   "source": [
    "# Step 4: Download the Telecom users from Kaggle \n",
    "\n",
    "!kaggle datasets download -d radmirzosimov/telecom-users-dataset \n",
    "# Download the file: telecom-users-dataset.zip\n",
    "\n",
    "# kaggle datasets download     This command is used to download files or folders from Kaggle using Kaggle API\n",
    "# -d                           This parameter is used to download the entire folder of the specified path.\n",
    "#                              In this case, the path is: \"radmirzosimov/telecom-users-dataset\" or\n",
    "#                              \"https://www.kaggle.com/radmirzosimov/telecom-users-dataset\"\n",
    "# files/03_KaggleToken.png charge images from local path"
   ]
  },
  {
   "cell_type": "markdown",
   "metadata": {},
   "source": [
    "5. Unzip the entire folder: **telecom-users-dataset.zip**<br>"
   ]
  },
  {
   "cell_type": "code",
   "execution_count": 12,
   "metadata": {},
   "outputs": [
    {
     "name": "stdout",
     "output_type": "stream",
     "text": [
      "process done\n"
     ]
    }
   ],
   "source": [
    "# Step 5: Unzip the file telecom-users-dataset.zip\n",
    "\n",
    "import subprocess   # Allow to run new applications or programs through Python code by creating new processes\n",
    "\n",
    "subprocess.call(r'\"C:\\Program Files\\7-Zip\\7z.exe\" x ' + \"telecom-users-dataset.zip\") \n",
    "# Action: Unzip the entire folder through the use OF 7-Zip software.\n",
    "\n",
    "print (\"process done\")\n",
    "\n",
    "# r'' indicates a raw string\n",
    "# 7z.exe          This is the executable file (.exe) that belongs to the program 7-Zip (https://www.7-zip.org/)\n",
    "#                 It is necessary to write the entire path where the 7z.exe file is stored.\n",
    "# e               This parameter is used to extract or unzip only a single file from the zip folder\n",
    "# -r              This parameter is used to enable recurse subdirectories.\n",
    "# x               This parameter is used to extract all\n",
    "\n",
    "# Uncomment the following line if you want to unzip only the telecom_users.csv\n",
    "#subprocess.call(r'\"C:\\Program Files\\7-Zip\\7z.exe\" e ' + \"telecom-users-dataset.zip\" + ' -r ' + \"telecom_users.csv\") "
   ]
  },
  {
   "cell_type": "markdown",
   "metadata": {},
   "source": [
    "## References\n",
    "\n",
    "<a id='section_id'></a>\n",
    "&emsp;[1] Zosimov, R., Telecom users dataset. Practice classification with a telco dataset. Retrieved March 25, 2021 from:<Br>\n",
    "&emsp;&emsp;&ensp;https://www.kaggle.com/radmirzosimov/telecom-users-dataset"
   ]
  }
 ],
 "metadata": {
  "kernelspec": {
   "display_name": "Python 3",
   "language": "python",
   "name": "python3"
  },
  "language_info": {
   "codemirror_mode": {
    "name": "ipython",
    "version": 3
   },
   "file_extension": ".py",
   "mimetype": "text/x-python",
   "name": "python",
   "nbconvert_exporter": "python",
   "pygments_lexer": "ipython3",
   "version": "3.7.9"
  }
 },
 "nbformat": 4,
 "nbformat_minor": 4
}
